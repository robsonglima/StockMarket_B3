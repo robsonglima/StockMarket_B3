{
  "nbformat": 4,
  "nbformat_minor": 0,
  "metadata": {
    "colab": {
      "private_outputs": true,
      "provenance": [],
      "toc_visible": true,
      "authorship_tag": "ABX9TyPAH9v2j5ds6IKYLBb/Q81i",
      "include_colab_link": true
    },
    "kernelspec": {
      "name": "python3",
      "display_name": "Python 3"
    },
    "language_info": {
      "name": "python"
    }
  },
  "cells": [
    {
      "cell_type": "markdown",
      "metadata": {
        "id": "view-in-github",
        "colab_type": "text"
      },
      "source": [
        "<a href=\"https://colab.research.google.com/github/robsonglima/StockMarket_B3/blob/main/Analise_de_Correla%C3%A7%C3%A3o_Mercado_de_A%C3%A7%C3%B5es_B3.ipynb\" target=\"_parent\"><img src=\"https://colab.research.google.com/assets/colab-badge.svg\" alt=\"Open In Colab\"/></a>"
      ]
    },
    {
      "cell_type": "markdown",
      "source": [
        "Premissas:\n",
        "\n",
        "Determinados movimentos no mercado de ações influenciam os preços de diversos ativos na mesma direção\n",
        "\n",
        "Determinados ativos têm maior correlação de preços do que outros. Exemplos ativos de commodities têm maior correlação do que uma ação de um banco comparado ao preço de uma ação de uma locadora de automóveis.\n",
        "\n",
        "Outro exemplo: ações de bancos podem apresentar correlações significativas entre si. Assim como empresas de seguros entre si, ou como empresas de telecom e assim por diante.\n",
        "\n",
        "Objetivo do projeto:\n",
        "\n",
        "Identificar as ações de maior correlação, ou principais grupos de ações que têm maior correlação entre seus preços.\n",
        "Descrever o comportamento dessas correlações tentando identificar em que períodos de tempo elas se manifestam de forma previsível (ao longo de minutos, horas, dias etc)\n",
        "Escrever estratégias que possam ser testadas como teses de investimento com base no estudo de movimentos passados\n"
      ],
      "metadata": {
        "id": "kpkYLaxi5GmH"
      }
    },
    {
      "cell_type": "code",
      "source": [
        "!pip install yfinance\n",
        "!pip install plotly"
      ],
      "metadata": {
        "id": "AeC8f1qzXsBy"
      },
      "execution_count": null,
      "outputs": []
    },
    {
      "cell_type": "code",
      "source": [
        "import pandas as pd\n",
        "import yfinance as yf\n",
        "import time\n",
        "import io\n",
        "import requests\n"
      ],
      "metadata": {
        "id": "wMH9PoUz7cOk"
      },
      "execution_count": null,
      "outputs": []
    },
    {
      "cell_type": "markdown",
      "source": [
        "Baixar as listadas na B3 - Filtra por cash e volume acima de 10K\n",
        "\n",
        "https://www.b3.com.br/pt_br/market-data-e-indices/servicos-de-dados/market-data/consultas/boletim-diario/dados-publicos-de-produtos-listados-e-de-balcao/\n",
        "\n",
        "\n",
        "\n",
        "TradeInformationConsolidatedFile_YYYYMMDD_1.csv"
      ],
      "metadata": {
        "id": "zZ1voBkN-YQ5"
      }
    },
    {
      "cell_type": "code",
      "source": [
        "# Caminho para o arquivo CSV baixado - Conferir nome\n",
        "caminho_arquivo = \"https://github.com/robsonglima/StockMarket_B3/blob/5c7977ff8b2f087ce8232a937cc39855d4adbed9/TradeInformationConsolidatedFile_20250127_1.csv?raw=true\"\n",
        "\n",
        "# Baixar o conteúdo do arquivo CSV como texto\n",
        "response = requests.get(caminho_arquivo)\n",
        "response.raise_for_status()  # Verificar se a solicitação foi bem-sucedida\n",
        "\n",
        "# Ler o CSV usando io.StringIO para evitar problemas com encoding\n",
        "df = pd.read_csv(io.StringIO(response.text), delimiter=';', encoding='latin1', header=1, on_bad_lines='skip')\n",
        "\n"
      ],
      "metadata": {
        "id": "FF32-lC77ac0"
      },
      "execution_count": null,
      "outputs": []
    },
    {
      "cell_type": "code",
      "source": [
        "df.head()"
      ],
      "metadata": {
        "id": "EWz7KAX08Fte"
      },
      "execution_count": null,
      "outputs": []
    },
    {
      "cell_type": "code",
      "source": [
        "#Incluindo .SA no TRacker para consultar no Yahoo Finance\n",
        "df['TckrSymb'] = df['TckrSymb'] + '.SA'"
      ],
      "metadata": {
        "id": "pTbIs3qhHmVk"
      },
      "execution_count": null,
      "outputs": []
    },
    {
      "cell_type": "code",
      "source": [
        "# Filtrar as linhas onde a coluna 'SgmtNm' contém 'ODD LOT'\n",
        "df_filtrado_segmento = df[df['SgmtNm'].str.contains('CASH', na=False)]"
      ],
      "metadata": {
        "id": "71zmAt_JAI_U"
      },
      "execution_count": null,
      "outputs": []
    },
    {
      "cell_type": "code",
      "source": [
        "df_filtrado_segmento.info()"
      ],
      "metadata": {
        "id": "h5E8YbGoAW4j"
      },
      "execution_count": null,
      "outputs": []
    },
    {
      "cell_type": "code",
      "source": [
        "df_filtrado_segmento.info()"
      ],
      "metadata": {
        "id": "SKxSQ-YuBQ7N"
      },
      "execution_count": null,
      "outputs": []
    },
    {
      "cell_type": "code",
      "source": [
        "# Selecionar as 15 ações com maior Qnt de Trader (TradQty) - Para Teste\n",
        "df_top_15 = df_filtrado_segmento.nlargest(15, 'TradQty')\n",
        "\n",
        "# Exibir as 15 ações selecionadas\n",
        "print(df_top_15[['TckrSymb', 'TradQty']])"
      ],
      "metadata": {
        "id": "UXfZL63WA2NX"
      },
      "execution_count": null,
      "outputs": []
    },
    {
      "cell_type": "code",
      "source": [
        "#BUscar info do detor (mercado da acao - baseado na premissa)\n",
        "def preencher_industry(df):\n",
        "    industries = []\n",
        "\n",
        "    for ticker in df['TckrSymb']:\n",
        "        try:\n",
        "\n",
        "            info = yf.Ticker(ticker).info\n",
        "            industry = info.get(\"industry\", \"N/A\")\n",
        "            industries.append(industry)\n",
        "            print(f\"Industry para {ticker}: {industry}\")\n",
        "        except Exception as e:\n",
        "            print(f\"Erro ao consultar industry para {ticker}: {e}\")\n",
        "            industries.append(\"Erro\")\n",
        "\n",
        "    # Nova coluna 'Industry' ao Df\n",
        "    df['Industry'] = industries\n",
        "    return df\n",
        "\n",
        "# Atualizar o df_top_15 com a coluna 'Industry'\n",
        "df_top_15_atualizado = preencher_industry(df_top_15)\n",
        "\n",
        "# Exibir o DataFrame atualizado\n",
        "print(df_top_15_atualizado)\n",
        "\n",
        "#opcao de exportar para csv\n",
        "#df_top_15_atualizado.to_csv(\"df_top_15_com_industry.csv\", index=False, sep=\";\")\n"
      ],
      "metadata": {
        "id": "60s370RLRjw2"
      },
      "execution_count": null,
      "outputs": []
    },
    {
      "cell_type": "code",
      "source": [
        "df_top_15_atualizado"
      ],
      "metadata": {
        "id": "13ydrOROUcpX"
      },
      "execution_count": null,
      "outputs": []
    },
    {
      "cell_type": "code",
      "source": [
        "tickers_top_15 = df_top_15_atualizado['TckrSymb'].tolist()\n",
        "\n",
        "# Função para consultar preços intraday no Yahoo Finance\n",
        "def consultar_precos_intradiarios_yf(tickers, intervalo=\"15m\", periodo=\"1d\"):\n",
        "    precos = []  # Lista para armazenar os dados de preços\n",
        "\n",
        "    for ticker in tickers:\n",
        "        try:\n",
        "            dados = yf.download(ticker, interval=intervalo, period=periodo, progress=False)\n",
        "            dados = dados.reset_index()  # Reseta o índice\n",
        "            dados.columns = [\"datetime\", \"open\", \"high\", \"low\", \"close\", \"volume\"]\n",
        "            dados[\"symbol\"] = ticker  # Adicionar o símbolo como uma coluna\n",
        "\n",
        "            # Selecionar as colunas na ordem correta\n",
        "            dados = dados[[\"datetime\", \"symbol\", \"volume\", \"open\", \"high\", \"low\", \"close\"]]\n",
        "            precos.append(dados)  # Adicionar os dados ajustados à lista\n",
        "            print(f\"Dados obtidos para {ticker}\")\n",
        "        except Exception as e:\n",
        "            print(f\"Erro ao processar {ticker}: {e}\")\n",
        "\n",
        "    # Combinar todos os DataFrames em um único DataFrame\n",
        "    return pd.concat(precos, ignore_index=True) if precos else pd.DataFrame()\n",
        "\n",
        "# Consultar preços intradiários para todos os tickers do df_top_15\n",
        "df_precos_intradiarios = consultar_precos_intradiarios_yf(tickers_top_15)\n",
        "\n",
        "# Exibir os dados consolidados\n",
        "print(df_precos_intradiarios.head())\n",
        "\n",
        "# Salvar os dados em CSV, se necessário\n",
        "df_precos_intradiarios.to_csv(\"precos_intradiarios_top_15.csv\", index=False)"
      ],
      "metadata": {
        "id": "ZlIct8NwNDJB"
      },
      "execution_count": null,
      "outputs": []
    },
    {
      "cell_type": "markdown",
      "source": [
        "Incluir setor - Yfinance"
      ],
      "metadata": {
        "id": "gXGEs9rsRGaG"
      }
    },
    {
      "cell_type": "code",
      "source": [
        "df_precos_intradiarios.head()"
      ],
      "metadata": {
        "id": "VSMXdlrJTY-y"
      },
      "execution_count": null,
      "outputs": []
    },
    {
      "cell_type": "code",
      "source": [
        "# Adicionar a coluna 'Industry' ao DataFrame\n",
        "df_precos_intradiarios['Industry'] = df_top_15_atualizado['Industry']\n",
        "\n",
        "# Exibir o DataFrame atualizado\n",
        "df_precos_intradiarios.info()\n",
        "\n",
        "\n"
      ],
      "metadata": {
        "id": "aVdvx5G7TwqI"
      },
      "execution_count": null,
      "outputs": []
    },
    {
      "cell_type": "code",
      "source": [
        "df_top_15_atualizado.head()"
      ],
      "metadata": {
        "id": "GPyDg-61VOVd"
      },
      "execution_count": null,
      "outputs": []
    }
  ]
}